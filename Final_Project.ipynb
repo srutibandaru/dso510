{
 "cells": [
  {
   "cell_type": "markdown",
   "metadata": {},
   "source": [
    "# Final Project"
   ]
  },
  {
   "cell_type": "markdown",
   "metadata": {},
   "source": [
    "### In officer misocnduct complaints against LAPD officers, does the complainant's gender or ethnicity affect how long their complaint case is open?"
   ]
  },
  {
   "cell_type": "code",
   "execution_count": 56,
   "metadata": {},
   "outputs": [],
   "source": [
    "import pandas as pd\n",
    "import numpy as np\n",
    "import warnings\n",
    "warnings.filterwarnings(\"ignore\")"
   ]
  },
  {
   "cell_type": "code",
   "execution_count": 66,
   "metadata": {},
   "outputs": [
    {
     "data": {
      "text/html": [
       "<div>\n",
       "<style scoped>\n",
       "    .dataframe tbody tr th:only-of-type {\n",
       "        vertical-align: middle;\n",
       "    }\n",
       "\n",
       "    .dataframe tbody tr th {\n",
       "        vertical-align: top;\n",
       "    }\n",
       "\n",
       "    .dataframe thead th {\n",
       "        text-align: right;\n",
       "    }\n",
       "</style>\n",
       "<table border=\"1\" class=\"dataframe\">\n",
       "  <thead>\n",
       "    <tr style=\"text-align: right;\">\n",
       "      <th></th>\n",
       "      <th>CMS Incident Date</th>\n",
       "      <th>CMS CF Issue Date</th>\n",
       "      <th>CMS Complaint Close Date Year</th>\n",
       "      <th>CMS Complainant Source Desc</th>\n",
       "      <th>CMS Complainant Gender Desc</th>\n",
       "      <th>CMS Complainant Ethnicity Desc</th>\n",
       "      <th>CMS Accused at Incd Emp Type Desc</th>\n",
       "      <th>CMS Accused at Incd Gender Desc</th>\n",
       "      <th>CMS Accused at Incd Ethnicity Desc</th>\n",
       "      <th>CMS Allegation Type Description</th>\n",
       "      <th>CMS Disposition Type Description</th>\n",
       "    </tr>\n",
       "  </thead>\n",
       "  <tbody>\n",
       "    <tr>\n",
       "      <th>0</th>\n",
       "      <td>April 13, 2014</td>\n",
       "      <td>November 25, 2014</td>\n",
       "      <td>2018.0</td>\n",
       "      <td>Public-Person Involved</td>\n",
       "      <td>MALE</td>\n",
       "      <td>Black</td>\n",
       "      <td>Sworn Employee</td>\n",
       "      <td>MALE</td>\n",
       "      <td>Hispanic</td>\n",
       "      <td>Undetermined</td>\n",
       "      <td>Consolidated</td>\n",
       "    </tr>\n",
       "    <tr>\n",
       "      <th>1</th>\n",
       "      <td>NaN</td>\n",
       "      <td>NaN</td>\n",
       "      <td>NaN</td>\n",
       "      <td>NaN</td>\n",
       "      <td>NaN</td>\n",
       "      <td>NaN</td>\n",
       "      <td>NaN</td>\n",
       "      <td>NaN</td>\n",
       "      <td>White</td>\n",
       "      <td>Undetermined</td>\n",
       "      <td>Consolidated</td>\n",
       "    </tr>\n",
       "    <tr>\n",
       "      <th>2</th>\n",
       "      <td>January 1, 2001</td>\n",
       "      <td>June 10, 2015</td>\n",
       "      <td>2022.0</td>\n",
       "      <td>Public-Person Involved</td>\n",
       "      <td>FEMALE</td>\n",
       "      <td>Other</td>\n",
       "      <td>Sworn Employee</td>\n",
       "      <td>MALE</td>\n",
       "      <td>White</td>\n",
       "      <td>Undetermined</td>\n",
       "      <td>Consolidated</td>\n",
       "    </tr>\n",
       "    <tr>\n",
       "      <th>3</th>\n",
       "      <td>October 30, 2015</td>\n",
       "      <td>October 30, 2015</td>\n",
       "      <td>2017.0</td>\n",
       "      <td>Public-Person Involved</td>\n",
       "      <td>FEMALE</td>\n",
       "      <td>NaN</td>\n",
       "      <td>Sworn Employee</td>\n",
       "      <td>MALE</td>\n",
       "      <td>Hispanic</td>\n",
       "      <td>Undetermined</td>\n",
       "      <td>Consolidated</td>\n",
       "    </tr>\n",
       "    <tr>\n",
       "      <th>4</th>\n",
       "      <td>NaN</td>\n",
       "      <td>NaN</td>\n",
       "      <td>NaN</td>\n",
       "      <td>NaN</td>\n",
       "      <td>NaN</td>\n",
       "      <td>NaN</td>\n",
       "      <td>NaN</td>\n",
       "      <td>NaN</td>\n",
       "      <td>White</td>\n",
       "      <td>Undetermined</td>\n",
       "      <td>Consolidated</td>\n",
       "    </tr>\n",
       "  </tbody>\n",
       "</table>\n",
       "</div>"
      ],
      "text/plain": [
       "  CMS Incident Date  CMS CF Issue Date  CMS Complaint Close Date Year  \\\n",
       "0    April 13, 2014  November 25, 2014                         2018.0   \n",
       "1               NaN                NaN                            NaN   \n",
       "2   January 1, 2001      June 10, 2015                         2022.0   \n",
       "3  October 30, 2015   October 30, 2015                         2017.0   \n",
       "4               NaN                NaN                            NaN   \n",
       "\n",
       "  CMS Complainant Source Desc CMS Complainant Gender Desc  \\\n",
       "0      Public-Person Involved                        MALE   \n",
       "1                         NaN                         NaN   \n",
       "2      Public-Person Involved                      FEMALE   \n",
       "3      Public-Person Involved                      FEMALE   \n",
       "4                         NaN                         NaN   \n",
       "\n",
       "  CMS Complainant Ethnicity Desc CMS Accused at Incd Emp Type Desc  \\\n",
       "0                          Black                    Sworn Employee   \n",
       "1                            NaN                               NaN   \n",
       "2                          Other                    Sworn Employee   \n",
       "3                            NaN                    Sworn Employee   \n",
       "4                            NaN                               NaN   \n",
       "\n",
       "  CMS Accused at Incd Gender Desc CMS Accused at Incd Ethnicity Desc  \\\n",
       "0                            MALE                           Hispanic   \n",
       "1                             NaN                              White   \n",
       "2                            MALE                              White   \n",
       "3                            MALE                           Hispanic   \n",
       "4                             NaN                              White   \n",
       "\n",
       "  CMS Allegation Type Description CMS Disposition Type Description  \n",
       "0                    Undetermined                     Consolidated  \n",
       "1                    Undetermined                     Consolidated  \n",
       "2                    Undetermined                     Consolidated  \n",
       "3                    Undetermined                     Consolidated  \n",
       "4                    Undetermined                     Consolidated  "
      ]
     },
     "execution_count": 66,
     "metadata": {},
     "output_type": "execute_result"
    }
   ],
   "source": [
    "data = pd.read_csv('LAPD_clean.csv')\n",
    "data.head()"
   ]
  },
  {
   "cell_type": "markdown",
   "metadata": {},
   "source": [
    "## Clean Data\n",
    " 1) drop duplicates which are parsed into dataframe as nulls\n",
    " \n",
    " 2) extract year from the complaint issue date and add as a column in the dataframe     "
   ]
  },
  {
   "cell_type": "code",
   "execution_count": 51,
   "metadata": {},
   "outputs": [
    {
     "data": {
      "text/plain": [
       "2723"
      ]
     },
     "execution_count": 51,
     "metadata": {},
     "output_type": "execute_result"
    }
   ],
   "source": [
    "# 1) drop duplicates by dropping null rows\n",
    "complaints = data.dropna() \n",
    "len(complaints)"
   ]
  },
  {
   "cell_type": "code",
   "execution_count": 52,
   "metadata": {},
   "outputs": [
    {
     "data": {
      "text/html": [
       "<div>\n",
       "<style scoped>\n",
       "    .dataframe tbody tr th:only-of-type {\n",
       "        vertical-align: middle;\n",
       "    }\n",
       "\n",
       "    .dataframe tbody tr th {\n",
       "        vertical-align: top;\n",
       "    }\n",
       "\n",
       "    .dataframe thead th {\n",
       "        text-align: right;\n",
       "    }\n",
       "</style>\n",
       "<table border=\"1\" class=\"dataframe\">\n",
       "  <thead>\n",
       "    <tr style=\"text-align: right;\">\n",
       "      <th></th>\n",
       "      <th>CMS Incident Date</th>\n",
       "      <th>CMS CF Issue Date</th>\n",
       "      <th>CMS Complaint Close Date Year</th>\n",
       "      <th>CMS Complainant Source Desc</th>\n",
       "      <th>CMS Complainant Gender Desc</th>\n",
       "      <th>CMS Complainant Ethnicity Desc</th>\n",
       "      <th>CMS Accused at Incd Emp Type Desc</th>\n",
       "      <th>CMS Accused at Incd Gender Desc</th>\n",
       "      <th>CMS Accused at Incd Ethnicity Desc</th>\n",
       "      <th>CMS Allegation Type Description</th>\n",
       "      <th>CMS Disposition Type Description</th>\n",
       "      <th>CMS CF Issue Year</th>\n",
       "    </tr>\n",
       "  </thead>\n",
       "  <tbody>\n",
       "    <tr>\n",
       "      <th>0</th>\n",
       "      <td>April 13, 2014</td>\n",
       "      <td>November 25, 2014</td>\n",
       "      <td>2018.0</td>\n",
       "      <td>Public-Person Involved</td>\n",
       "      <td>MALE</td>\n",
       "      <td>Black</td>\n",
       "      <td>Sworn Employee</td>\n",
       "      <td>MALE</td>\n",
       "      <td>Hispanic</td>\n",
       "      <td>Undetermined</td>\n",
       "      <td>Consolidated</td>\n",
       "      <td>2014.0</td>\n",
       "    </tr>\n",
       "    <tr>\n",
       "      <th>2</th>\n",
       "      <td>January 1, 2001</td>\n",
       "      <td>June 10, 2015</td>\n",
       "      <td>2022.0</td>\n",
       "      <td>Public-Person Involved</td>\n",
       "      <td>FEMALE</td>\n",
       "      <td>Other</td>\n",
       "      <td>Sworn Employee</td>\n",
       "      <td>MALE</td>\n",
       "      <td>White</td>\n",
       "      <td>Undetermined</td>\n",
       "      <td>Consolidated</td>\n",
       "      <td>2015.0</td>\n",
       "    </tr>\n",
       "    <tr>\n",
       "      <th>5</th>\n",
       "      <td>November 19, 2015</td>\n",
       "      <td>November 19, 2015</td>\n",
       "      <td>2017.0</td>\n",
       "      <td>Public-Person Involved</td>\n",
       "      <td>MALE</td>\n",
       "      <td>Black</td>\n",
       "      <td>Sworn Employee</td>\n",
       "      <td>MALE</td>\n",
       "      <td>Black</td>\n",
       "      <td>Undetermined</td>\n",
       "      <td>Consolidated</td>\n",
       "      <td>2015.0</td>\n",
       "    </tr>\n",
       "    <tr>\n",
       "      <th>6</th>\n",
       "      <td>November 20, 2015</td>\n",
       "      <td>November 20, 2015</td>\n",
       "      <td>2017.0</td>\n",
       "      <td>Public-Person Involved</td>\n",
       "      <td>MALE</td>\n",
       "      <td>Black</td>\n",
       "      <td>Sworn Employee</td>\n",
       "      <td>MALE</td>\n",
       "      <td>Hispanic</td>\n",
       "      <td>Undetermined</td>\n",
       "      <td>Consolidated</td>\n",
       "      <td>2015.0</td>\n",
       "    </tr>\n",
       "    <tr>\n",
       "      <th>7</th>\n",
       "      <td>November 10, 2015</td>\n",
       "      <td>November 20, 2015</td>\n",
       "      <td>2017.0</td>\n",
       "      <td>Public-Person Involved</td>\n",
       "      <td>MALE</td>\n",
       "      <td>Black</td>\n",
       "      <td>Sworn Employee</td>\n",
       "      <td>MALE</td>\n",
       "      <td>Black</td>\n",
       "      <td>Undetermined</td>\n",
       "      <td>Consolidated</td>\n",
       "      <td>2016.0</td>\n",
       "    </tr>\n",
       "  </tbody>\n",
       "</table>\n",
       "</div>"
      ],
      "text/plain": [
       "   CMS Incident Date  CMS CF Issue Date  CMS Complaint Close Date Year  \\\n",
       "0     April 13, 2014  November 25, 2014                         2018.0   \n",
       "2    January 1, 2001      June 10, 2015                         2022.0   \n",
       "5  November 19, 2015  November 19, 2015                         2017.0   \n",
       "6  November 20, 2015  November 20, 2015                         2017.0   \n",
       "7  November 10, 2015  November 20, 2015                         2017.0   \n",
       "\n",
       "  CMS Complainant Source Desc CMS Complainant Gender Desc  \\\n",
       "0      Public-Person Involved                        MALE   \n",
       "2      Public-Person Involved                      FEMALE   \n",
       "5      Public-Person Involved                        MALE   \n",
       "6      Public-Person Involved                        MALE   \n",
       "7      Public-Person Involved                        MALE   \n",
       "\n",
       "  CMS Complainant Ethnicity Desc CMS Accused at Incd Emp Type Desc  \\\n",
       "0                          Black                    Sworn Employee   \n",
       "2                          Other                    Sworn Employee   \n",
       "5                          Black                    Sworn Employee   \n",
       "6                          Black                    Sworn Employee   \n",
       "7                          Black                    Sworn Employee   \n",
       "\n",
       "  CMS Accused at Incd Gender Desc CMS Accused at Incd Ethnicity Desc  \\\n",
       "0                            MALE                           Hispanic   \n",
       "2                            MALE                              White   \n",
       "5                            MALE                              Black   \n",
       "6                            MALE                           Hispanic   \n",
       "7                            MALE                              Black   \n",
       "\n",
       "  CMS Allegation Type Description CMS Disposition Type Description  \\\n",
       "0                    Undetermined                     Consolidated   \n",
       "2                    Undetermined                     Consolidated   \n",
       "5                    Undetermined                     Consolidated   \n",
       "6                    Undetermined                     Consolidated   \n",
       "7                    Undetermined                     Consolidated   \n",
       "\n",
       "   CMS CF Issue Year  \n",
       "0             2014.0  \n",
       "2             2015.0  \n",
       "5             2015.0  \n",
       "6             2015.0  \n",
       "7             2016.0  "
      ]
     },
     "execution_count": 52,
     "metadata": {},
     "output_type": "execute_result"
    }
   ],
   "source": [
    "# 2) extract year from complaint issue date\n",
    "def extract_year(val):\n",
    "    return int(val[-4:])\n",
    "\n",
    "years = []\n",
    "for val in complaints['CMS CF Issue Date']:\n",
    "    years.append(extract_year(val))\n",
    "    \n",
    "#append complaint issue years to df\n",
    "complaints['CMS CF Issue Year'] = pd.Series(years)\n",
    "complaints.head()"
   ]
  },
  {
   "cell_type": "markdown",
   "metadata": {},
   "source": [
    "## EDA"
   ]
  },
  {
   "cell_type": "code",
   "execution_count": 57,
   "metadata": {},
   "outputs": [
    {
     "data": {
      "text/plain": [
       "0.7322175732217573"
      ]
     },
     "execution_count": 57,
     "metadata": {},
     "output_type": "execute_result"
    }
   ],
   "source": [
    "# average num years complaint is open \n",
    "np.mean(complaints['CMS Complaint Close Date Year'] - complaints['CMS CF Issue Year'])"
   ]
  },
  {
   "cell_type": "code",
   "execution_count": 64,
   "metadata": {},
   "outputs": [
    {
     "data": {
      "text/plain": [
       "MALE       1564\n",
       "FEMALE     1143\n",
       "UNKNOWN      16\n",
       "Name: CMS Complainant Gender Desc, dtype: int64"
      ]
     },
     "execution_count": 64,
     "metadata": {},
     "output_type": "execute_result"
    }
   ],
   "source": [
    "# counts of complainants' gender\n",
    "complaints['CMS Complainant Gender Desc'].value_counts()"
   ]
  },
  {
   "cell_type": "code",
   "execution_count": 65,
   "metadata": {},
   "outputs": [
    {
     "data": {
      "text/plain": [
       "Black             1231\n",
       "Hispanic           731\n",
       "White              421\n",
       "UNKNOWN            160\n",
       "Other              113\n",
       "Asian               55\n",
       "American Indin       8\n",
       "Filipino             4\n",
       "Name: CMS Complainant Ethnicity Desc, dtype: int64"
      ]
     },
     "execution_count": 65,
     "metadata": {},
     "output_type": "execute_result"
    }
   ],
   "source": [
    "# counts of complainants' ethnicity\n",
    "complaints['CMS Complainant Ethnicity Desc'].value_counts()"
   ]
  }
 ],
 "metadata": {
  "kernelspec": {
   "display_name": "Python 3",
   "language": "python",
   "name": "python3"
  },
  "language_info": {
   "codemirror_mode": {
    "name": "ipython",
    "version": 3
   },
   "file_extension": ".py",
   "mimetype": "text/x-python",
   "name": "python",
   "nbconvert_exporter": "python",
   "pygments_lexer": "ipython3",
   "version": "3.8.5"
  }
 },
 "nbformat": 4,
 "nbformat_minor": 4
}
